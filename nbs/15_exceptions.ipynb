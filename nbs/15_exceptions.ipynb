{
 "cells": [
  {
   "cell_type": "code",
   "execution_count": null,
   "metadata": {},
   "outputs": [],
   "source": [
    "%load_ext autoreload\n",
    "%autoreload 2"
   ]
  },
  {
   "cell_type": "code",
   "execution_count": null,
   "metadata": {},
   "outputs": [],
   "source": [
    "# default_exp exceptions"
   ]
  },
  {
   "cell_type": "markdown",
   "metadata": {},
   "source": [
    "# exceptions\n",
    "> Defines the exceptions used throughout prcvd applications."
   ]
  },
  {
   "cell_type": "code",
   "execution_count": null,
   "metadata": {},
   "outputs": [],
   "source": [
    "#export\n",
    "\n",
    "## imports"
   ]
  },
  {
   "cell_type": "code",
   "execution_count": null,
   "metadata": {},
   "outputs": [],
   "source": [
    "#export\n",
    "class UnexpectedInputProvided(Exception):\n",
    "    \"\"\"Interrupts execution if unexpected input is provided.\"\"\"\n",
    "    pass\n",
    "\n",
    "class ExpectedInputMissing(Exception):\n",
    "    \"\"\"Interrupts execution if expected input is missing.\"\"\"\n",
    "    pass\n",
    "\n",
    "class DataTypeNotImplemented(Exception):\n",
    "    \"\"\"Interrupts execution if requested data type is not implemented\"\"\"\n",
    "    pass"
   ]
  },
  {
   "cell_type": "code",
   "execution_count": null,
   "metadata": {},
   "outputs": [
    {
     "name": "stdout",
     "output_type": "stream",
     "text": [
      "Converted 00_core.ipynb.\n",
      "Converted 01_web.ipynb.\n",
      "Converted 02_db.ipynb.\n",
      "Converted 03_img.ipynb.\n",
      "Converted 04_audio.ipynb.\n",
      "Converted 05_config.ipynb.\n",
      "Converted 06_tabular.ipynb.\n",
      "Converted 07_audio_oyez.ipynb.\n",
      "Converted 08_audio_talktime.ipynb.\n",
      "Converted 09_scraping_github.ipynb.\n",
      "Converted 10_scraping.ipynb.\n",
      "Converted 11_img_face.ipynb.\n",
      "Converted 12_serving_core.ipynb.\n",
      "Converted 13_interfaces_types.ipynb.\n",
      "Converted 14_serving_ubiops.ipynb.\n",
      "Converted 15_exceptions.ipynb.\n",
      "Converted index.ipynb.\n"
     ]
    }
   ],
   "source": [
    "from nbdev.export import *\n",
    "notebook2script()"
   ]
  },
  {
   "cell_type": "code",
   "execution_count": null,
   "metadata": {},
   "outputs": [],
   "source": []
  }
 ],
 "metadata": {
  "kernelspec": {
   "display_name": "Python 3",
   "language": "python",
   "name": "python3"
  }
 },
 "nbformat": 4,
 "nbformat_minor": 4
}
