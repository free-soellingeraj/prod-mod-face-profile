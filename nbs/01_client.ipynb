{
 "cells": [
  {
   "cell_type": "code",
   "execution_count": 1,
   "metadata": {},
   "outputs": [],
   "source": [
    "%load_ext autoreload\n",
    "%autoreload 2"
   ]
  },
  {
   "cell_type": "code",
   "execution_count": 2,
   "metadata": {},
   "outputs": [
    {
     "name": "stderr",
     "output_type": "stream",
     "text": [
      "/home/fortville/.local/lib/python3.6/site-packages/torch/cuda/__init__.py:52: UserWarning: CUDA initialization: Unexpected error from cudaGetDeviceCount(). Did you run some cuda functions before calling NumCudaDevices() that might have already set an error? Error 804: forward compatibility was attempted on non supported HW (Triggered internally at  /pytorch/c10/cuda/CUDAFunctions.cpp:100.)\n",
      "  return torch._C._cuda_getDeviceCount() > 0\n"
     ]
    }
   ],
   "source": [
    "import os\n",
    "from pathlib import Path\n",
    "import json\n",
    "from prcvd.img.core import (MaskedImg)\n",
    "import requests\n",
    "import ubiops"
   ]
  },
  {
   "cell_type": "code",
   "execution_count": 3,
   "metadata": {},
   "outputs": [],
   "source": [
    "## Initialize API"
   ]
  },
  {
   "cell_type": "code",
   "execution_count": 4,
   "metadata": {},
   "outputs": [
    {
     "ename": "ImportError",
     "evalue": "cannot import name 'json_to_dict'",
     "output_type": "error",
     "traceback": [
      "\u001b[0;31m---------------------------------------------------------------------------\u001b[0m",
      "\u001b[0;31mImportError\u001b[0m                               Traceback (most recent call last)",
      "\u001b[0;32m<ipython-input-4-3ecc9efeab1f>\u001b[0m in \u001b[0;36m<module>\u001b[0;34m\u001b[0m\n\u001b[0;32m----> 1\u001b[0;31m \u001b[0;32mfrom\u001b[0m \u001b[0mprcvd\u001b[0m\u001b[0;34m.\u001b[0m\u001b[0mcore\u001b[0m \u001b[0;32mimport\u001b[0m \u001b[0mjson_to_dict\u001b[0m\u001b[0;34m\u001b[0m\u001b[0;34m\u001b[0m\u001b[0m\n\u001b[0m\u001b[1;32m      2\u001b[0m \u001b[0;34m\u001b[0m\u001b[0m\n\u001b[1;32m      3\u001b[0m \u001b[0;34m\u001b[0m\u001b[0m\n\u001b[1;32m      4\u001b[0m \u001b[0;32mdef\u001b[0m \u001b[0mblob_from_fp\u001b[0m\u001b[0;34m(\u001b[0m\u001b[0mfp\u001b[0m\u001b[0;34m)\u001b[0m\u001b[0;34m:\u001b[0m\u001b[0;34m\u001b[0m\u001b[0;34m\u001b[0m\u001b[0m\n\u001b[1;32m      5\u001b[0m     return api.blobs_create(\n",
      "\u001b[0;31mImportError\u001b[0m: cannot import name 'json_to_dict'"
     ]
    }
   ],
   "source": [
    "from prcvd.core import json_to_dict\n",
    "    \n",
    "\n",
    "def blob_from_fp(fp):\n",
    "    return api.blobs_create(\n",
    "            project_name=PROJECT_NAME,\n",
    "            file=str(ls[2])\n",
    "    )\n",
    "    \n",
    "class Client:\n",
    "    def __init__(self, project_name, deployment_name, \n",
    "                 deployment_version, input_spec, \n",
    "                 output_spec, api_key):\n",
    "        self.project_name = project_name\n",
    "        self.deployment_name = deployment_name\n",
    "        self.deployment_version = deployment_version\n",
    "        self.input_spec = input_spec #dict\n",
    "        self.output_spec = output_spec #dict\n",
    "        self.api_key = api_key\n",
    "        self.response = None\n",
    "        self.output_data = None\n",
    "        self.url_fmt = '{host}/projects/{proj}/'\n",
    "        self.req_fmt = 'deployments/{dname}/versions/{dver}/request'\n",
    "        self.req_url = os.path.join(\n",
    "            url_fmt.format(\n",
    "                host=secrets['HOST'], \n",
    "                proj=PROJECT_NAME),\n",
    "            req_fmt.format(\n",
    "                dname=DEPLOYMENT_NAME, \n",
    "                dver=DEPLOYMENT_VERSION\n",
    "            )\n",
    "        )\n",
    "        self.client = ubiops.ApiClient(\n",
    "            ubiops.Configuration(\n",
    "                api_key={'Authorization': self.api_key}, \n",
    "                host=secrets['HOST'])\n",
    "        )\n",
    "\n",
    "        self.api = ubiops.CoreApi(client)\n",
    "        \n",
    "    \n",
    "    def request(self, data):\n",
    "        pass\n"
   ]
  },
  {
   "cell_type": "code",
   "execution_count": 7,
   "metadata": {},
   "outputs": [],
   "source": [
    "imgs = Path('/data1/data/skin-tone/from_zenodo/Media/MediaForExport')\n",
    "ls = [\n",
    "    fp for fp in list(imgs.iterdir()) \n",
    "    if str(fp)[-4:] == '.jpg'\n",
    "]"
   ]
  },
  {
   "cell_type": "code",
   "execution_count": 8,
   "metadata": {},
   "outputs": [],
   "source": [
    "SECRETS_FP = Path(os.getenv('HOME'))/'code/.secrets/ubiops.json'\n",
    "secrets = json_to_dict(fp=SECRETS_FP)\n",
    "OUTPUT_SPEC_FP = Path(os.getcwd()).parent/'ubiops_output_spec.json'\n",
    "output_spec = json_to_dict(fp=OUTPUT_SPEC_FP)\n",
    "\n",
    "PROJECT_NAME = \"facial-profile\"\n",
    "DEPLOYMENT_NAME = 'endtoend-3'\n",
    "DEPLOYMENT_VERSION = 'v2'    #TODO: how to get latest?\n",
    "url_fmt = '{host}/projects/{proj}/'\n",
    "req_fmt = 'deployments/{dname}/versions/{dver}/request'\n",
    "\n",
    "url = os.path.join(\n",
    "    url_fmt.format(\n",
    "        host=secrets['HOST'], \n",
    "        proj=PROJECT_NAME),\n",
    "    req_fmt.format(\n",
    "        dname=DEPLOYMENT_NAME, \n",
    "        dver=DEPLOYMENT_VERSION\n",
    "    )\n",
    ")\n",
    "\n",
    "client = ubiops.ApiClient(\n",
    "    ubiops.Configuration(\n",
    "        api_key={'Authorization': secrets['API_TOKEN']}, \n",
    "        host=secrets['HOST'])\n",
    ")\n",
    "\n",
    "api = ubiops.CoreApi(client)\n",
    "b = api.blobs_create(\n",
    "    project_name=PROJECT_NAME,file=str(ls[2]),\n",
    ") # Requires service-user-project-admin role\n",
    "data = {\n",
    "    'img': b.id,\n",
    "    'sampling_strategy': 'use_all',\n",
    "    'align_face': True,\n",
    "    'num_attempts': 10\n",
    "}\n",
    "\n",
    "r = requests.post(\n",
    "    url, json=data, headers={\n",
    "        \"Authorization\": secrets[\"API_TOKEN\"],\n",
    "    }\n",
    ")\n"
   ]
  },
  {
   "cell_type": "code",
   "execution_count": 14,
   "metadata": {},
   "outputs": [],
   "source": [
    "import json\n",
    "if r.ok:\n",
    "    output = json.loads(r.content)\n",
    "    "
   ]
  },
  {
   "cell_type": "code",
   "execution_count": 15,
   "metadata": {},
   "outputs": [],
   "source": [
    "id_to_name = {obj['id']: obj['name'] for obj in output_spec}\n",
    "output['result'] = {id_to_name[k]: v for k,v in output['result'].items()}"
   ]
  },
  {
   "cell_type": "code",
   "execution_count": 16,
   "metadata": {},
   "outputs": [],
   "source": [
    "blob_data = api.blobs_get(\n",
    "    project_name=PROJECT_NAME,\n",
    "    blob_id=output['result']['img']\n",
    ")"
   ]
  },
  {
   "cell_type": "code",
   "execution_count": 17,
   "metadata": {},
   "outputs": [
    {
     "data": {
      "text/plain": [
       "bytes"
      ]
     },
     "execution_count": 17,
     "metadata": {},
     "output_type": "execute_result"
    }
   ],
   "source": [
    "type(blob_data.data)"
   ]
  },
  {
   "cell_type": "code",
   "execution_count": 43,
   "metadata": {},
   "outputs": [
    {
     "ename": "AttributeError",
     "evalue": "'MaskedImg' object has no attribute 'load_from_bytes'",
     "output_type": "error",
     "traceback": [
      "\u001b[0;31m---------------------------------------------------------------------------\u001b[0m",
      "\u001b[0;31mAttributeError\u001b[0m                            Traceback (most recent call last)",
      "\u001b[0;32m<ipython-input-43-f5342794953c>\u001b[0m in \u001b[0;36m<module>\u001b[0;34m\u001b[0m\n\u001b[1;32m      1\u001b[0m \u001b[0;31m# type(blob_data.data)\u001b[0m\u001b[0;34m\u001b[0m\u001b[0;34m\u001b[0m\u001b[0;34m\u001b[0m\u001b[0m\n\u001b[1;32m      2\u001b[0m \u001b[0mimg\u001b[0m \u001b[0;34m=\u001b[0m \u001b[0mMaskedImg\u001b[0m\u001b[0;34m(\u001b[0m\u001b[0;34m)\u001b[0m\u001b[0;34m\u001b[0m\u001b[0;34m\u001b[0m\u001b[0m\n\u001b[0;32m----> 3\u001b[0;31m \u001b[0mimg\u001b[0m\u001b[0;34m.\u001b[0m\u001b[0mload_from_bytes\u001b[0m\u001b[0;34m(\u001b[0m\u001b[0mbytestr\u001b[0m\u001b[0;34m=\u001b[0m\u001b[0mblob_data\u001b[0m\u001b[0;34m.\u001b[0m\u001b[0mdata\u001b[0m\u001b[0;34m)\u001b[0m\u001b[0;34m\u001b[0m\u001b[0;34m\u001b[0m\u001b[0m\n\u001b[0m",
      "\u001b[0;31mAttributeError\u001b[0m: 'MaskedImg' object has no attribute 'load_from_bytes'"
     ]
    }
   ],
   "source": [
    "# type(blob_data.data)\n",
    "img = MaskedImg()\n",
    "img.load_from_bytes(bytestr=blob_data.data)"
   ]
  },
  {
   "cell_type": "code",
   "execution_count": 25,
   "metadata": {},
   "outputs": [],
   "source": [
    "import io\n",
    "import numpy as np\n",
    "from PIL import Image"
   ]
  },
  {
   "cell_type": "code",
   "execution_count": 33,
   "metadata": {},
   "outputs": [],
   "source": [
    "i1 = Image.open(io.BytesIO(blob_data.data))\n",
    "arr = np.asarray(i1)"
   ]
  },
  {
   "cell_type": "code",
   "execution_count": 34,
   "metadata": {},
   "outputs": [],
   "source": [
    "import matplotlib.pyplot as plt"
   ]
  },
  {
   "cell_type": "code",
   "execution_count": 35,
   "metadata": {},
   "outputs": [
    {
     "data": {
      "text/plain": [
       "<matplotlib.image.AxesImage at 0x7fbbfa43b828>"
      ]
     },
     "execution_count": 35,
     "metadata": {},
     "output_type": "execute_result"
    },
    {
     "data": {
      "image/png": "[encoded data removed]",
      "text/plain": [
       "<Figure size 432x288 with 1 Axes>"
      ]
     },
     "metadata": {
      "needs_background": "light"
     },
     "output_type": "display_data"
    }
   ],
   "source": [
    "plt.imshow(arr)"
   ]
  },
  {
   "cell_type": "markdown",
   "metadata": {},
   "source": [
    "## The Endpoint\n",
    "### Notes\n",
    "1. Is a blob a dictionary?  If so, this should work. Use the \"json editor\" on create a deployment.\n",
    "2. https://www.freecodecamp.org/news/what-we-learned-by-serving-machine-learning-models-using-aws-lambda-c70b303404a1/https://www.freecodecamp.org/news/what-we-learned-by-serving-machine-learning-models-using-aws-lambda-c70b303404a1/\n",
    "\n",
    "## Notes\n",
    "1. is there a way to create the blob without importing ubiops? Yes (requests)\n",
    "2. does requests encrypt my api key in transit?  Does ubiops?\n",
    "3. make the request asynchronous, non-blocking\n",
    "4. the documentation here, I think the vocabulary is confusing.  https://ubiops.com/docs/tutorials/quickstart/\n",
    "(try just using code samples?)  I didn't find any code samples to show how to actually make a request.\n",
    "5. Can I generalize the ubiops to make it work for multiple deployments?\n",
    "    1. makes requests (async/await)\n",
    "    2. parses response\n",
    "    3. serializes and saves data\n",
    "    4. caches requests\n",
    "    \n"
   ]
  }
 ],
 "metadata": {
  "kernelspec": {
   "display_name": "Python 3",
   "language": "python",
   "name": "python3"
  },
  "language_info": {
   "codemirror_mode": {
    "name": "ipython",
    "version": 3
   },
   "file_extension": ".py",
   "mimetype": "text/x-python",
   "name": "python",
   "nbconvert_exporter": "python",
   "pygments_lexer": "ipython3",
   "version": "3.6.9"
  }
 },
 "nbformat": 4,
 "nbformat_minor": 4
}
