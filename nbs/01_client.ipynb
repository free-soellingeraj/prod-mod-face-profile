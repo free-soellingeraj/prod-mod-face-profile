{
 "cells": [
  {
   "cell_type": "code",
   "execution_count": null,
   "metadata": {},
   "outputs": [],
   "source": [
    "%load_ext autoreload\n",
    "%autoreload 2"
   ]
  },
  {
   "cell_type": "code",
   "execution_count": null,
   "metadata": {},
   "outputs": [],
   "source": [
    "# default_exp client"
   ]
  },
  {
   "cell_type": "markdown",
   "metadata": {},
   "source": [
    "# client\n",
    "> Defines the methods required for making requests to the face profile."
   ]
  },
  {
   "cell_type": "code",
   "execution_count": null,
   "metadata": {},
   "outputs": [],
   "source": [
    "#hide\n",
    "from nbdev.showdoc import *"
   ]
  },
  {
   "cell_type": "code",
   "execution_count": null,
   "metadata": {},
   "outputs": [],
   "source": [
    "#export\n",
    "import os\n",
    "from pathlib import Path\n",
    "import json\n",
    "# from prcvd.img.core import (MaskedImg)\n",
    "import ubiops"
   ]
  },
  {
   "cell_type": "code",
   "execution_count": null,
   "metadata": {},
   "outputs": [],
   "source": [
    "## Initialize API"
   ]
  },
  {
   "cell_type": "code",
   "execution_count": null,
   "metadata": {},
   "outputs": [
    {
     "name": "stderr",
     "output_type": "stream",
     "text": [
      "/home/fortville/.local/lib/python3.6/site-packages/torch/cuda/__init__.py:52: UserWarning: CUDA initialization: Unexpected error from cudaGetDeviceCount(). Did you run some cuda functions before calling NumCudaDevices() that might have already set an error? Error 804: forward compatibility was attempted on non supported HW (Triggered internally at  /pytorch/c10/cuda/CUDAFunctions.cpp:100.)\n",
      "  return torch._C._cuda_getDeviceCount() > 0\n"
     ]
    }
   ],
   "source": [
    "from mod.core import json_to_dict\n",
    "from mod.exceptions import  (\n",
    "    UnexpectedInputProvided, ExpectedInputMissing, \n",
    "    DataTypeNotImplemented\n",
    ")\n",
    "from mod.serving.ubiops import (UbiOpsClient)"
   ]
  },
  {
   "cell_type": "code",
   "execution_count": null,
   "metadata": {},
   "outputs": [],
   "source": [
    "imgs = Path('/data1/data/skin-tone/from_zenodo/Media/MediaForExport')\n",
    "ls = [\n",
    "    fp for fp in list(imgs.iterdir()) \n",
    "    if str(fp)[-4:] == '.jpg'\n",
    "]"
   ]
  },
  {
   "cell_type": "code",
   "execution_count": null,
   "metadata": {},
   "outputs": [],
   "source": [
    "SECRETS_FP = Path(os.getenv('HOME'))/'code/.secrets/ubiops.json'\n",
    "secrets = json_to_dict(fp=SECRETS_FP)\n",
    "OUTPUT_SPEC_FP = Path(os.getcwd()).parent/'ubiops_output_spec.json'\n",
    "output_spec = json_to_dict(fp=OUTPUT_SPEC_FP)\n",
    "INPUT_SPEC_FP = Path(os.getcwd()).parent/'ubiops_input_spec.json'\n",
    "input_spec = json_to_dict(fp=INPUT_SPEC_FP)\n",
    "\n",
    "PROJECT_NAME = \"facial-profile\"\n",
    "DEPLOYMENT_NAME = 'endtoend-3'\n",
    "DEPLOYMENT_VERSION = 'v2'    #TODO: how to get latest?\n",
    "\n",
    "client = UbiOpsClient(\n",
    "    project_name=PROJECT_NAME, deployment_name=DEPLOYMENT_NAME, \n",
    "    deployment_version=DEPLOYMENT_VERSION, input_spec=input_spec,\n",
    "    output_spec=output_spec, api_key=secrets['API_TOKEN'], \n",
    "    api_host=secrets['HOST']\n",
    "    \n",
    ")"
   ]
  },
  {
   "cell_type": "code",
   "execution_count": null,
   "metadata": {},
   "outputs": [
    {
     "ename": "NameError",
     "evalue": "name 'json' is not defined",
     "output_type": "error",
     "traceback": [
      "\u001b[0;31m---------------------------------------------------------------------------\u001b[0m",
      "\u001b[0;31mNameError\u001b[0m                                 Traceback (most recent call last)",
      "\u001b[0;32m<ipython-input-10-b49ccced7b9b>\u001b[0m in \u001b[0;36m<module>\u001b[0;34m\u001b[0m\n\u001b[1;32m      6\u001b[0m }\n\u001b[1;32m      7\u001b[0m \u001b[0mr\u001b[0m \u001b[0;34m=\u001b[0m \u001b[0mclient\u001b[0m\u001b[0;34m.\u001b[0m\u001b[0mrequest\u001b[0m\u001b[0;34m(\u001b[0m\u001b[0mdata\u001b[0m\u001b[0;34m=\u001b[0m\u001b[0mdata\u001b[0m\u001b[0;34m)\u001b[0m\u001b[0;34m\u001b[0m\u001b[0;34m\u001b[0m\u001b[0m\n\u001b[0;32m----> 8\u001b[0;31m \u001b[0moutput\u001b[0m \u001b[0;34m=\u001b[0m \u001b[0mclient\u001b[0m\u001b[0;34m.\u001b[0m\u001b[0mpost_process\u001b[0m\u001b[0;34m(\u001b[0m\u001b[0mresponse\u001b[0m\u001b[0;34m=\u001b[0m\u001b[0mr\u001b[0m\u001b[0;34m)\u001b[0m\u001b[0;34m\u001b[0m\u001b[0;34m\u001b[0m\u001b[0m\n\u001b[0m",
      "\u001b[0;32m~/.local/lib/python3.6/site-packages/mod/serving/client.py\u001b[0m in \u001b[0;36mpost_process\u001b[0;34m(self, response)\u001b[0m\n\u001b[1;32m    127\u001b[0m         \u001b[0;34m\"\"\"Deal with the HTTP response.\"\"\"\u001b[0m\u001b[0;34m\u001b[0m\u001b[0;34m\u001b[0m\u001b[0m\n\u001b[1;32m    128\u001b[0m         \u001b[0;32mif\u001b[0m \u001b[0mresponse\u001b[0m\u001b[0;34m.\u001b[0m\u001b[0mok\u001b[0m\u001b[0;34m:\u001b[0m\u001b[0;34m\u001b[0m\u001b[0;34m\u001b[0m\u001b[0m\n\u001b[0;32m--> 129\u001b[0;31m             \u001b[0moutput\u001b[0m \u001b[0;34m=\u001b[0m \u001b[0mjson\u001b[0m\u001b[0;34m.\u001b[0m\u001b[0mloads\u001b[0m\u001b[0;34m(\u001b[0m\u001b[0mresponse\u001b[0m\u001b[0;34m.\u001b[0m\u001b[0mcontent\u001b[0m\u001b[0;34m)\u001b[0m\u001b[0;34m\u001b[0m\u001b[0;34m\u001b[0m\u001b[0m\n\u001b[0m\u001b[1;32m    130\u001b[0m         \u001b[0;32melse\u001b[0m\u001b[0;34m:\u001b[0m\u001b[0;34m\u001b[0m\u001b[0;34m\u001b[0m\u001b[0m\n\u001b[1;32m    131\u001b[0m             \u001b[0;32mraise\u001b[0m \u001b[0mException\u001b[0m\u001b[0;34m(\u001b[0m\u001b[0;34m\"Failed HTTP request, no return.\"\u001b[0m\u001b[0;34m)\u001b[0m\u001b[0;34m\u001b[0m\u001b[0;34m\u001b[0m\u001b[0m\n",
      "\u001b[0;31mNameError\u001b[0m: name 'json' is not defined"
     ]
    }
   ],
   "source": [
    "data = {\n",
    "    'img': str(ls[0]),\n",
    "    'sampling_strategy': 'use_all',\n",
    "    'align_face': True,\n",
    "    'num_attempts': 10\n",
    "}\n",
    "# r = client.request(data=data)\n",
    "# output = client.post_process(response=r)"
   ]
  },
  {
   "cell_type": "code",
   "execution_count": null,
   "metadata": {},
   "outputs": [
    {
     "name": "stdout",
     "output_type": "stream",
     "text": [
      "Converted 00_core.ipynb.\n",
      "Converted 01_client.ipynb.\n",
      "Converted 13_interfaces_types.ipynb.\n",
      "Converted 14_serving_ubiops.ipynb.\n",
      "Converted 15_exceptions.ipynb.\n",
      "Converted 16_serving_client.ipynb.\n",
      "Converted index.ipynb.\n"
     ]
    }
   ],
   "source": [
    "from nbdev.export import *\n",
    "notebook2script()"
   ]
  },
  {
   "cell_type": "markdown",
   "metadata": {},
   "source": [
    "## The Endpoint\n",
    "### Notes\n",
    "1. Is a blob a dictionary?  If so, this should work. Use the \"json editor\" on create a deployment.\n",
    "2. https://www.freecodecamp.org/news/what-we-learned-by-serving-machine-learning-models-using-aws-lambda-c70b303404a1/https://www.freecodecamp.org/news/what-we-learned-by-serving-machine-learning-models-using-aws-lambda-c70b303404a1/\n",
    "\n",
    "## Notes\n",
    "1. is there a way to create the blob without importing ubiops? Yes (requests)\n",
    "2. does requests encrypt my api key in transit?  Does ubiops?\n",
    "3. make the request asynchronous, non-blocking\n",
    "4. the documentation here, I think the vocabulary is confusing.  https://ubiops.com/docs/tutorials/quickstart/\n",
    "(try just using code samples?)  I didn't find any code samples to show how to actually make a request.\n",
    "5. Can I generalize the ubiops to make it work for multiple deployments?\n",
    "    1. handles inputs DONE\n",
    "    1. makes requests DONE\n",
    "    2. (async/await)\n",
    "    2. parses response DONE\n",
    "    3. serializes and saves data \n",
    "    4. caches requests"
   ]
  },
  {
   "cell_type": "code",
   "execution_count": null,
   "metadata": {},
   "outputs": [],
   "source": []
  }
 ],
 "metadata": {
  "kernelspec": {
   "display_name": "Python 3",
   "language": "python",
   "name": "python3"
  }
 },
 "nbformat": 4,
 "nbformat_minor": 4
}
