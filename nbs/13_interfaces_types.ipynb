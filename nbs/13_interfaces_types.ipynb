{
 "cells": [
  {
   "cell_type": "code",
   "execution_count": null,
   "metadata": {},
   "outputs": [
    {
     "name": "stdout",
     "output_type": "stream",
     "text": [
      "The autoreload extension is already loaded. To reload it, use:\n",
      "  %reload_ext autoreload\n"
     ]
    }
   ],
   "source": [
    "%load_ext autoreload\n",
    "%autoreload 2\n",
    "\n",
    "# default_exp interfaces.types"
   ]
  },
  {
   "cell_type": "markdown",
   "metadata": {},
   "source": [
    "# prcvd.interfaces.types\n",
    "\n",
    "> for code used to maintain typed interfaces."
   ]
  },
  {
   "cell_type": "code",
   "execution_count": null,
   "metadata": {},
   "outputs": [],
   "source": [
    "#hide\n",
    "from nbdev.showdoc import *"
   ]
  },
  {
   "cell_type": "code",
   "execution_count": null,
   "metadata": {},
   "outputs": [],
   "source": [
    "#export\n"
   ]
  },
  {
   "cell_type": "code",
   "execution_count": null,
   "metadata": {},
   "outputs": [],
   "source": [
    "#export\n",
    "def check_collection(val):\n",
    "    if type(val) == dict:\n",
    "        raise Exception('`dict` not a supported output type.')\n",
    "    \n",
    "    types = list({type(v) for v in val})\n",
    "    if len(types) > 1:\n",
    "        raise Exception('Mixed type collections not supported.')\n",
    "    \n",
    "    if types[0] == int:\n",
    "        return 'array_int'\n",
    "    elif types[0] == float:\n",
    "        return 'array_float'\n",
    "    elif types[0] == str:\n",
    "        return 'array_str'\n"
   ]
  },
  {
   "cell_type": "markdown",
   "metadata": {},
   "source": [
    "from nbdev.export import *\n",
    "notebook2script()"
   ]
  }
 ],
 "metadata": {
  "kernelspec": {
   "display_name": "Python 3",
   "language": "python",
   "name": "python3"
  }
 },
 "nbformat": 4,
 "nbformat_minor": 4
}
